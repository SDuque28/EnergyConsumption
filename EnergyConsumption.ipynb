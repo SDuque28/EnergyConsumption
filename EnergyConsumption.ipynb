{
 "cells": [
  {
   "cell_type": "code",
   "execution_count": 13,
   "metadata": {},
   "outputs": [],
   "source": [
    "import pandas as pd\n",
    "\n",
    "# Especificamos de que tipo son los datos\n",
    "dtypes = {\n",
    "  \"Date\": str,\n",
    "  \"Time\": str, \n",
    "  \"Global_active_power\": float,\n",
    "  \"Global_reactive_power\": float,\n",
    "  \"Voltage\": float,\n",
    "  \"Global_intensity\": float,\n",
    "  \"Sub_metering_1\": float,\n",
    "  \"Sub_metering_2\": float,\n",
    "  \"Sub_metering_3\": float\n",
    "}\n",
    "\n",
    "route1 = \"C:\\\\Users\\\\Santiago D\\\\Documents\\\\Universidad\\\\2024-1\\\\Procesos 2\\\\DataBase\\\\household_power_consumption.txt\"\n",
    "Energy = pd.read_csv(route1,delimiter=\";\",dtype=dtypes,na_values=\"?\")"
   ]
  },
  {
   "cell_type": "code",
   "execution_count": 6,
   "metadata": {},
   "outputs": [
    {
     "data": {
      "text/html": [
       "<div>\n",
       "<style scoped>\n",
       "    .dataframe tbody tr th:only-of-type {\n",
       "        vertical-align: middle;\n",
       "    }\n",
       "\n",
       "    .dataframe tbody tr th {\n",
       "        vertical-align: top;\n",
       "    }\n",
       "\n",
       "    .dataframe thead th {\n",
       "        text-align: right;\n",
       "    }\n",
       "</style>\n",
       "<table border=\"1\" class=\"dataframe\">\n",
       "  <thead>\n",
       "    <tr style=\"text-align: right;\">\n",
       "      <th></th>\n",
       "      <th>Date</th>\n",
       "      <th>Time</th>\n",
       "      <th>Global_active_power</th>\n",
       "      <th>Global_reactive_power</th>\n",
       "      <th>Voltage</th>\n",
       "      <th>Global_intensity</th>\n",
       "      <th>Sub_metering_1</th>\n",
       "      <th>Sub_metering_2</th>\n",
       "      <th>Sub_metering_3</th>\n",
       "    </tr>\n",
       "  </thead>\n",
       "  <tbody>\n",
       "    <tr>\n",
       "      <th>0</th>\n",
       "      <td>16/12/2006</td>\n",
       "      <td>17:24:00</td>\n",
       "      <td>4.216</td>\n",
       "      <td>0.418</td>\n",
       "      <td>234.84</td>\n",
       "      <td>18.4</td>\n",
       "      <td>0.0</td>\n",
       "      <td>1.0</td>\n",
       "      <td>17.0</td>\n",
       "    </tr>\n",
       "    <tr>\n",
       "      <th>1</th>\n",
       "      <td>16/12/2006</td>\n",
       "      <td>17:25:00</td>\n",
       "      <td>5.360</td>\n",
       "      <td>0.436</td>\n",
       "      <td>233.63</td>\n",
       "      <td>23.0</td>\n",
       "      <td>0.0</td>\n",
       "      <td>1.0</td>\n",
       "      <td>16.0</td>\n",
       "    </tr>\n",
       "    <tr>\n",
       "      <th>2</th>\n",
       "      <td>16/12/2006</td>\n",
       "      <td>17:26:00</td>\n",
       "      <td>5.374</td>\n",
       "      <td>0.498</td>\n",
       "      <td>233.29</td>\n",
       "      <td>23.0</td>\n",
       "      <td>0.0</td>\n",
       "      <td>2.0</td>\n",
       "      <td>17.0</td>\n",
       "    </tr>\n",
       "    <tr>\n",
       "      <th>3</th>\n",
       "      <td>16/12/2006</td>\n",
       "      <td>17:27:00</td>\n",
       "      <td>5.388</td>\n",
       "      <td>0.502</td>\n",
       "      <td>233.74</td>\n",
       "      <td>23.0</td>\n",
       "      <td>0.0</td>\n",
       "      <td>1.0</td>\n",
       "      <td>17.0</td>\n",
       "    </tr>\n",
       "    <tr>\n",
       "      <th>4</th>\n",
       "      <td>16/12/2006</td>\n",
       "      <td>17:28:00</td>\n",
       "      <td>3.666</td>\n",
       "      <td>0.528</td>\n",
       "      <td>235.68</td>\n",
       "      <td>15.8</td>\n",
       "      <td>0.0</td>\n",
       "      <td>1.0</td>\n",
       "      <td>17.0</td>\n",
       "    </tr>\n",
       "  </tbody>\n",
       "</table>\n",
       "</div>"
      ],
      "text/plain": [
       "         Date      Time  Global_active_power  Global_reactive_power  Voltage  \\\n",
       "0  16/12/2006  17:24:00                4.216                  0.418   234.84   \n",
       "1  16/12/2006  17:25:00                5.360                  0.436   233.63   \n",
       "2  16/12/2006  17:26:00                5.374                  0.498   233.29   \n",
       "3  16/12/2006  17:27:00                5.388                  0.502   233.74   \n",
       "4  16/12/2006  17:28:00                3.666                  0.528   235.68   \n",
       "\n",
       "   Global_intensity  Sub_metering_1  Sub_metering_2  Sub_metering_3  \n",
       "0              18.4             0.0             1.0            17.0  \n",
       "1              23.0             0.0             1.0            16.0  \n",
       "2              23.0             0.0             2.0            17.0  \n",
       "3              23.0             0.0             1.0            17.0  \n",
       "4              15.8             0.0             1.0            17.0  "
      ]
     },
     "execution_count": 6,
     "metadata": {},
     "output_type": "execute_result"
    }
   ],
   "source": [
    "Energy.head()"
   ]
  },
  {
   "cell_type": "code",
   "execution_count": 7,
   "metadata": {},
   "outputs": [
    {
     "name": "stdout",
     "output_type": "stream",
     "text": [
      "<class 'pandas.core.frame.DataFrame'>\n",
      "RangeIndex: 2075259 entries, 0 to 2075258\n",
      "Data columns (total 9 columns):\n",
      " #   Column                 Dtype  \n",
      "---  ------                 -----  \n",
      " 0   Date                   object \n",
      " 1   Time                   object \n",
      " 2   Global_active_power    float64\n",
      " 3   Global_reactive_power  float64\n",
      " 4   Voltage                float64\n",
      " 5   Global_intensity       float64\n",
      " 6   Sub_metering_1         float64\n",
      " 7   Sub_metering_2         float64\n",
      " 8   Sub_metering_3         float64\n",
      "dtypes: float64(7), object(2)\n",
      "memory usage: 142.5+ MB\n"
     ]
    }
   ],
   "source": [
    "Energy.info()"
   ]
  },
  {
   "cell_type": "code",
   "execution_count": 8,
   "metadata": {},
   "outputs": [
    {
     "data": {
      "text/plain": [
       "0"
      ]
     },
     "execution_count": 8,
     "metadata": {},
     "output_type": "execute_result"
    }
   ],
   "source": [
    "Energy.duplicated().sum()"
   ]
  },
  {
   "cell_type": "code",
   "execution_count": 9,
   "metadata": {},
   "outputs": [],
   "source": [
    "# Tratamos los valores nulos con la mediana de cada fila\n",
    "for i in Energy.columns[2:]:\n",
    "    median = Energy[i].median()\n",
    "    Energy[i].fillna(median, inplace=True)"
   ]
  },
  {
   "cell_type": "code",
   "execution_count": 10,
   "metadata": {},
   "outputs": [
    {
     "data": {
      "text/plain": [
       "Date                     0\n",
       "Time                     0\n",
       "Global_active_power      0\n",
       "Global_reactive_power    0\n",
       "Voltage                  0\n",
       "Global_intensity         0\n",
       "Sub_metering_1           0\n",
       "Sub_metering_2           0\n",
       "Sub_metering_3           0\n",
       "dtype: int64"
      ]
     },
     "execution_count": 10,
     "metadata": {},
     "output_type": "execute_result"
    }
   ],
   "source": [
    "Energy.isna().sum()"
   ]
  },
  {
   "cell_type": "code",
   "execution_count": 11,
   "metadata": {},
   "outputs": [],
   "source": [
    "# Convierte la columna 'Date' al formato datetime\n",
    "Energy['Date'] = pd.to_datetime(Energy['Date'], format='%d/%m/%Y')\n",
    "\n",
    "# Formatea la columna 'Date' al nuevo formato 'aaaa-mm-dd'\n",
    "Energy['Date'] = Energy['Date'].dt.strftime('%Y-%m-%d')"
   ]
  },
  {
   "cell_type": "code",
   "execution_count": 12,
   "metadata": {},
   "outputs": [
    {
     "data": {
      "text/html": [
       "<div>\n",
       "<style scoped>\n",
       "    .dataframe tbody tr th:only-of-type {\n",
       "        vertical-align: middle;\n",
       "    }\n",
       "\n",
       "    .dataframe tbody tr th {\n",
       "        vertical-align: top;\n",
       "    }\n",
       "\n",
       "    .dataframe thead th {\n",
       "        text-align: right;\n",
       "    }\n",
       "</style>\n",
       "<table border=\"1\" class=\"dataframe\">\n",
       "  <thead>\n",
       "    <tr style=\"text-align: right;\">\n",
       "      <th></th>\n",
       "      <th>Date</th>\n",
       "      <th>Time</th>\n",
       "      <th>Global_active_power</th>\n",
       "      <th>Global_reactive_power</th>\n",
       "      <th>Voltage</th>\n",
       "      <th>Global_intensity</th>\n",
       "      <th>Sub_metering_1</th>\n",
       "      <th>Sub_metering_2</th>\n",
       "      <th>Sub_metering_3</th>\n",
       "    </tr>\n",
       "  </thead>\n",
       "  <tbody>\n",
       "    <tr>\n",
       "      <th>0</th>\n",
       "      <td>2006-12-16</td>\n",
       "      <td>17:24:00</td>\n",
       "      <td>4.216</td>\n",
       "      <td>0.418</td>\n",
       "      <td>234.84</td>\n",
       "      <td>18.4</td>\n",
       "      <td>0.0</td>\n",
       "      <td>1.0</td>\n",
       "      <td>17.0</td>\n",
       "    </tr>\n",
       "    <tr>\n",
       "      <th>1</th>\n",
       "      <td>2006-12-16</td>\n",
       "      <td>17:25:00</td>\n",
       "      <td>5.360</td>\n",
       "      <td>0.436</td>\n",
       "      <td>233.63</td>\n",
       "      <td>23.0</td>\n",
       "      <td>0.0</td>\n",
       "      <td>1.0</td>\n",
       "      <td>16.0</td>\n",
       "    </tr>\n",
       "    <tr>\n",
       "      <th>2</th>\n",
       "      <td>2006-12-16</td>\n",
       "      <td>17:26:00</td>\n",
       "      <td>5.374</td>\n",
       "      <td>0.498</td>\n",
       "      <td>233.29</td>\n",
       "      <td>23.0</td>\n",
       "      <td>0.0</td>\n",
       "      <td>2.0</td>\n",
       "      <td>17.0</td>\n",
       "    </tr>\n",
       "    <tr>\n",
       "      <th>3</th>\n",
       "      <td>2006-12-16</td>\n",
       "      <td>17:27:00</td>\n",
       "      <td>5.388</td>\n",
       "      <td>0.502</td>\n",
       "      <td>233.74</td>\n",
       "      <td>23.0</td>\n",
       "      <td>0.0</td>\n",
       "      <td>1.0</td>\n",
       "      <td>17.0</td>\n",
       "    </tr>\n",
       "    <tr>\n",
       "      <th>4</th>\n",
       "      <td>2006-12-16</td>\n",
       "      <td>17:28:00</td>\n",
       "      <td>3.666</td>\n",
       "      <td>0.528</td>\n",
       "      <td>235.68</td>\n",
       "      <td>15.8</td>\n",
       "      <td>0.0</td>\n",
       "      <td>1.0</td>\n",
       "      <td>17.0</td>\n",
       "    </tr>\n",
       "  </tbody>\n",
       "</table>\n",
       "</div>"
      ],
      "text/plain": [
       "         Date      Time  Global_active_power  Global_reactive_power  Voltage  \\\n",
       "0  2006-12-16  17:24:00                4.216                  0.418   234.84   \n",
       "1  2006-12-16  17:25:00                5.360                  0.436   233.63   \n",
       "2  2006-12-16  17:26:00                5.374                  0.498   233.29   \n",
       "3  2006-12-16  17:27:00                5.388                  0.502   233.74   \n",
       "4  2006-12-16  17:28:00                3.666                  0.528   235.68   \n",
       "\n",
       "   Global_intensity  Sub_metering_1  Sub_metering_2  Sub_metering_3  \n",
       "0              18.4             0.0             1.0            17.0  \n",
       "1              23.0             0.0             1.0            16.0  \n",
       "2              23.0             0.0             2.0            17.0  \n",
       "3              23.0             0.0             1.0            17.0  \n",
       "4              15.8             0.0             1.0            17.0  "
      ]
     },
     "execution_count": 12,
     "metadata": {},
     "output_type": "execute_result"
    }
   ],
   "source": [
    "Energy.head()"
   ]
  },
  {
   "cell_type": "code",
   "execution_count": 14,
   "metadata": {},
   "outputs": [],
   "source": [
    "route2 = \"C:\\\\Users\\\\Santiago D\\\\Documents\\\\Universidad\\\\2024-1\\\\Procesos 2\\\\DataBase\\\\EnergyConsumption.csv\"\n",
    "Energy.to_csv(route2, index=False)"
   ]
  },
  {
   "cell_type": "markdown",
   "metadata": {},
   "source": [
    "Maejamos los mensajes que le enviamos a la base de datos con el siguiente codigo"
   ]
  },
  {
   "cell_type": "code",
   "execution_count": 11,
   "metadata": {},
   "outputs": [],
   "source": [
    "import paho.mqtt.client as mqtt\n",
    "import json\n",
    "import time\n",
    "\n",
    "# Conectar con el broker MQTT\n",
    "client = mqtt.Client()\n",
    "client.connect(\"localhost\", 1883)\n",
    "\n",
    "for index, fila in Energy.iloc[243168:].iterrows():\n",
    "    # Crear un diccionario con los valores de la fila\n",
    "    mensaje = {\n",
    "        \"Date\": fila[\"Date\"],\n",
    "        \"Time\": fila[\"Time\"],\n",
    "        \"Gap\": fila[\"Global_active_power\"],  # Mapear el nombre de la columna\n",
    "        \"Grp\": fila[\"Global_reactive_power\"],  # Mapear el nombre de la columna\n",
    "        \"Voltage\": fila[\"Voltage\"],\n",
    "        \"Gi\": fila[\"Global_intensity\"],  # Mapear el nombre de la columna\n",
    "        \"Sm1\": fila[\"Sub_metering_1\"],  # Mapear el nombre de la columna\n",
    "        \"Sm2\": fila[\"Sub_metering_2\"],  # Mapear el nombre de la columna\n",
    "        \"Sm3\": fila[\"Sub_metering_3\"]  # Mapear el nombre de la columna\n",
    "    }\n",
    "    \n",
    "    # Convertir el diccionario a formato JSON\n",
    "    mensaje_json = json.dumps(mensaje)\n",
    "    \n",
    "    # Publicar el mensaje en el tema \"val1\"\n",
    "    client.publish(\"val1\", mensaje_json)\n",
    "    time.sleep(0.05)\n",
    "\n",
    "# Desconectar del broker MQTT\n",
    "client.disconnect()"
   ]
  },
  {
   "cell_type": "markdown",
   "metadata": {},
   "source": [
    "Se hace el tratamieto de la base de datos para ver las horas en donde mas se consume energia"
   ]
  },
  {
   "cell_type": "code",
   "execution_count": 37,
   "metadata": {},
   "outputs": [],
   "source": [
    "import pandas as pd\n",
    "import matplotlib.pyplot as plt\n",
    "\n",
    "# Cargar los datos\n",
    "df = pd.read_csv(route2)\n",
    "\n",
    "# Preprocesar los datos\n",
    "df[\"DateTime\"] = pd.to_datetime(df[\"Date\"] + \" \" + df[\"Time\"], dayfirst=True)\n",
    "df[\"Hour\"] = df[\"DateTime\"].dt.hour\n",
    "\n",
    "# Calcular el promedio de consumo de energía por hora del día\n",
    "avg_energy_consumption = df.groupby(\"Hour\")[[\"Sub_metering_1\", \"Sub_metering_2\", \"Sub_metering_3\"]].mean()"
   ]
  },
  {
   "cell_type": "code",
   "execution_count": 38,
   "metadata": {},
   "outputs": [
    {
     "name": "stdout",
     "output_type": "stream",
     "text": [
      "La hora de mayor consumo para Sub_metering_1 es las 21:00 horas.\n",
      "La hora de mayor consumo para Sub_metering_2 es las 14:00 horas.\n",
      "La hora de mayor consumo para Sub_metering_3 es las 8:00 horas.\n"
     ]
    },
    {
     "data": {
      "image/png": "[encoded data removed]",
      "text/plain": [
       "<Figure size 1000x600 with 1 Axes>"
      ]
     },
     "metadata": {},
     "output_type": "display_data"
    }
   ],
   "source": [
    "# Generar la gráfica\n",
    "plt.figure(figsize=(10, 6))\n",
    "avg_energy_consumption.plot(ax=plt.gca())\n",
    "plt.title(\"Promedio de consumo de energía por hora del día\")\n",
    "plt.xlabel(\"Hora del día\")\n",
    "plt.ylabel(\"Consumo de energía\")\n",
    "plt.grid(True)\n",
    "plt.legend([\"Sub_metering_1\", \"Sub_metering_2\", \"Sub_metering_3\"])\n",
    "\n",
    "# Comentario adicional\n",
    "# Por ejemplo, encuentra la hora con el mayor promedio de consumo para cada submedidor\n",
    "max_hour_sub_metering_1 = avg_energy_consumption[\"Sub_metering_1\"].idxmax()\n",
    "max_hour_sub_metering_2 = avg_energy_consumption[\"Sub_metering_2\"].idxmax()\n",
    "max_hour_sub_metering_3 = avg_energy_consumption[\"Sub_metering_3\"].idxmax()\n",
    "\n",
    "print(f\"La hora de mayor consumo para Sub_metering_1 es las {max_hour_sub_metering_1}:00 horas.\")\n",
    "print(f\"La hora de mayor consumo para Sub_metering_2 es las {max_hour_sub_metering_2}:00 horas.\")\n",
    "print(f\"La hora de mayor consumo para Sub_metering_3 es las {max_hour_sub_metering_3}:00 horas.\")\n",
    "\n",
    "plt.show()"
   ]
  },
  {
   "cell_type": "markdown",
   "metadata": {},
   "source": [
    "Convertimos los datos extraidos a JSON para poderlos madar a Node-Red"
   ]
  },
  {
   "cell_type": "code",
   "execution_count": 35,
   "metadata": {},
   "outputs": [
    {
     "name": "stdout",
     "output_type": "stream",
     "text": [
      "{'labels': [0, 1, 2, 3, 4, 5, 6, 7, 8, 9, 10, 11, 12, 13, 14, 15, 16, 17, 18, 19, 20, 21, 22, 23], 'data': [[0.36437753681674095, 0.24895833333333334, 0.14585844871779866, 0.06776466732218944, 0.04714183574199749, 0.03570255688482289, 0.03943278715443531, 0.30520378969091505, 1.3717802919280144, 1.472912466594777, 1.1335397897897899, 1.4994838588588588, 1.5689487440955496, 1.2798921959221936, 1.4727240793864529, 1.4785073438122234, 0.9607195171969297, 0.7117795954719104, 1.3202690194148594, 2.6061817586682565, 2.7769432926473163, 2.8201662593973973, 2.2271340572510607, 0.9577956989247312], [0.5553917956276099, 0.39796348314606744, 0.3501328433151137, 0.3500608699723744, 0.33404831393508916, 0.3156931738212526, 0.3342990182854596, 0.503083814080015, 1.009836449967759, 1.0792934502320783, 1.5437077702702702, 1.997606981981982, 2.049556360397107, 2.4312397468947737, 2.4751244072361103, 2.0618309166295767, 1.853354426671354, 1.9287974312700682, 1.7982705894759043, 2.1131841668420193, 1.9028791683700286, 1.7783909551146395, 1.1675335756782346, 0.8314282374941562], [2.9666514603876433, 2.351931179775281, 2.02716558012149, 1.6920798801329775, 1.8662751854847217, 2.135749472202674, 4.236972049871568, 10.743926176070541, 12.65779940207515, 12.544001125228561, 11.450544294294295, 10.232990803303304, 9.100542681997727, 8.338575111319429, 7.376804636730871, 6.178172362903792, 5.472045467861956, 5.3777861110460075, 5.761022648716416, 6.7495966893455845, 8.436664135957484, 7.621403266728244, 5.703108014914731, 4.010437120149603]], 'series': ['SubMeter1', 'SubMeter2', 'SubMeter3']}\n"
     ]
    }
   ],
   "source": [
    "payload = {\"labels\":avg_energy_consumption.index.tolist(),\n",
    "           \"data\":[avg_energy_consumption[\"Sub_metering_1\"].values.tolist(),\n",
    "                   avg_energy_consumption[\"Sub_metering_2\"].values.tolist(),\n",
    "                   avg_energy_consumption[\"Sub_metering_3\"].values.tolist()],\n",
    "           \"series\":[\"SubMeter1\",\"SubMeter2\",\"SubMeter3\"]\n",
    "           }\n",
    "print(payload)"
   ]
  },
  {
   "cell_type": "code",
   "execution_count": 36,
   "metadata": {},
   "outputs": [
    {
     "data": {
      "text/plain": [
       "0"
      ]
     },
     "execution_count": 36,
     "metadata": {},
     "output_type": "execute_result"
    }
   ],
   "source": [
    "import paho.mqtt.client as mqtt\n",
    "import json\n",
    "\n",
    "# Configurar el cliente MQTT\n",
    "client = mqtt.Client()\n",
    "client.connect(\"localhost\", 1883)  # Especifica la dirección y el puerto del broker MQTT\n",
    "\n",
    "# Publicar el JSON en un tema MQTT\n",
    "client.publish(\"val2\", json.dumps(payload))\n",
    "\n",
    "# Desconectar el cliente MQTT\n",
    "client.disconnect()"
   ]
  }
 ],
 "metadata": {
  "kernelspec": {
   "display_name": "Python 3",
   "language": "python",
   "name": "python3"
  },
  "language_info": {
   "codemirror_mode": {
    "name": "ipython",
    "version": 3
   },
   "file_extension": ".py",
   "mimetype": "text/x-python",
   "name": "python",
   "nbconvert_exporter": "python",
   "pygments_lexer": "ipython3",
   "version": "3.11.3"
  }
 },
 "nbformat": 4,
 "nbformat_minor": 2
}
